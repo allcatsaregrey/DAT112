{
  "nbformat": 4,
  "nbformat_minor": 0,
  "metadata": {
    "colab": {
      "name": "flowers_cnn.ipynb",
      "provenance": [],
      "collapsed_sections": []
    },
    "kernelspec": {
      "name": "python3",
      "display_name": "Python 3"
    },
    "accelerator": "GPU"
  },
  "cells": [
    {
      "cell_type": "code",
      "metadata": {
        "id": "9MfuC83LYJl6",
        "colab_type": "code",
        "colab": {
          "base_uri": "https://localhost:8080/",
          "height": 580
        },
        "outputId": "261729e8-6a74-4242-8599-1127f96ad2be"
      },
      "source": [
        "# Author: Matthew McFee\n",
        "# DAT112 - Assignment #1\n",
        "# July 7, 2020\n",
        "\n",
        "# Install wget with pip and download the data files\n",
        "\n",
        "# These should be commented in the actual .py as these are Jupyter Notebook\n",
        "# specific \n",
        "# !pip install wget\n",
        "\n",
        "# !wget \"https://support.scinet.utoronto.ca/~ejspence/50x50flowers.images.npy\"\n",
        "# !wget \"https://support.scinet.utoronto.ca/~ejspence/50x50flowers.targets.npy\""
      ],
      "execution_count": null,
      "outputs": [
        {
          "output_type": "stream",
          "text": [
            "Collecting wget\n",
            "  Downloading https://files.pythonhosted.org/packages/47/6a/62e288da7bcda82b935ff0c6cfe542970f04e29c756b0e147251b2fb251f/wget-3.2.zip\n",
            "Building wheels for collected packages: wget\n",
            "  Building wheel for wget (setup.py) ... \u001b[?25l\u001b[?25hdone\n",
            "  Created wheel for wget: filename=wget-3.2-cp36-none-any.whl size=9682 sha256=160bf8859a21f23400a21750cc3b5cbed5dfb25e48bdfb456356f91bd33300a7\n",
            "  Stored in directory: /root/.cache/pip/wheels/40/15/30/7d8f7cea2902b4db79e3fea550d7d7b85ecb27ef992b618f3f\n",
            "Successfully built wget\n",
            "Installing collected packages: wget\n",
            "Successfully installed wget-3.2\n",
            "--2020-07-07 05:11:13--  https://support.scinet.utoronto.ca/~ejspence/50x50flowers.images.npy\n",
            "Resolving support.scinet.utoronto.ca (support.scinet.utoronto.ca)... 142.150.255.98\n",
            "Connecting to support.scinet.utoronto.ca (support.scinet.utoronto.ca)|142.150.255.98|:443... connected.\n",
            "HTTP request sent, awaiting response... 200 OK\n",
            "Length: 81600128 (78M) [text/plain]\n",
            "Saving to: ‘50x50flowers.images.npy’\n",
            "\n",
            "50x50flowers.images 100%[===================>]  77.82M  42.6MB/s    in 1.8s    \n",
            "\n",
            "2020-07-07 05:11:15 (42.6 MB/s) - ‘50x50flowers.images.npy’ saved [81600128/81600128]\n",
            "\n",
            "--2020-07-07 05:11:16--  https://support.scinet.utoronto.ca/~ejspence/50x50flowers.targets.npy\n",
            "Resolving support.scinet.utoronto.ca (support.scinet.utoronto.ca)... 142.150.255.98\n",
            "Connecting to support.scinet.utoronto.ca (support.scinet.utoronto.ca)|142.150.255.98|:443... connected.\n",
            "HTTP request sent, awaiting response... 200 OK\n",
            "Length: 11008 (11K) [text/plain]\n",
            "Saving to: ‘50x50flowers.targets.npy’\n",
            "\n",
            "50x50flowers.target 100%[===================>]  10.75K  --.-KB/s    in 0s      \n",
            "\n",
            "2020-07-07 05:11:16 (209 MB/s) - ‘50x50flowers.targets.npy’ saved [11008/11008]\n",
            "\n"
          ],
          "name": "stdout"
        }
      ]
    },
    {
      "cell_type": "code",
      "metadata": {
        "id": "jEfwvpj1Y3G8",
        "colab_type": "code",
        "colab": {
          "base_uri": "https://localhost:8080/",
          "height": 53
        },
        "outputId": "ac348728-0d61-48d9-ce54-d5d7edf9cc1f"
      },
      "source": [
        "# Load the data files\n",
        "\n",
        "import numpy as np\n",
        "\n",
        "def load_data(image_path, targets_path):\n",
        "\n",
        "  print(\"Reading flowers input file.\")\n",
        "  images = np.load(image_path)\n",
        "\n",
        "  print(\"Reading flowers target file.\")\n",
        "  targets = np.load(targets_path)\n",
        "\n",
        "  return images, targets\n",
        "\n",
        "# Hardcoded file paths because the assignment guidelines said this is okay\n",
        "IMAGE_PATH = \"50x50flowers.images.npy\"\n",
        "TARGETS_PATH = \"50x50flowers.targets.npy\"\n",
        "\n",
        "images, targets = load_data(IMAGE_PATH, TARGETS_PATH)"
      ],
      "execution_count": null,
      "outputs": [
        {
          "output_type": "stream",
          "text": [
            "Reading flowers input file.\n",
            "Reading flowers target file.\n"
          ],
          "name": "stdout"
        }
      ]
    },
    {
      "cell_type": "code",
      "metadata": {
        "id": "Rt2iEyrjZOx1",
        "colab_type": "code",
        "colab": {
          "base_uri": "https://localhost:8080/",
          "height": 35
        },
        "outputId": "13100bba-ac76-47b5-f02f-0a8aea9c7534"
      },
      "source": [
        "# Generate training, and testing data sets\n",
        "\n",
        "from sklearn.model_selection import train_test_split\n",
        "\n",
        "# Setting 30% of the data to be used as the test set\n",
        "# Setting random state for reproducibility \n",
        "X_train, X_test, y_train, y_test = train_test_split(images, targets,\n",
        "                                                    test_size=0.3, \n",
        "                                                    random_state=1)\n",
        "\n",
        "# Preprocess data \n",
        "\n",
        "from keras.utils import to_categorical\n",
        "\n",
        "# Odd issue where to_categorical adds an additional 18th class, solution is to \n",
        "# subtract 1 from all labels, so class labels start from 0\n",
        "\n",
        "y_train = y_train - 1\n",
        "y_test = y_test - 1\n",
        "\n",
        "y_train = to_categorical(y_train, num_classes=17)\n",
        "y_test = to_categorical(y_test, num_classes=17)"
      ],
      "execution_count": null,
      "outputs": [
        {
          "output_type": "stream",
          "text": [
            "Using TensorFlow backend.\n"
          ],
          "name": "stderr"
        }
      ]
    },
    {
      "cell_type": "code",
      "metadata": {
        "id": "4b1KgXUCaw-M",
        "colab_type": "code",
        "colab": {
          "base_uri": "https://localhost:8080/",
          "height": 36
        },
        "outputId": "bab47006-55b6-44bf-90e1-e2eb376b43af"
      },
      "source": [
        "# Function that builds a model \n",
        "\n",
        "# The model will be a simple convolutional neural network\n",
        "\n",
        "# Import the necessary Keras libaries\n",
        "from keras.models import Sequential\n",
        "from keras.layers import Dense, Conv2D, Flatten, MaxPooling2D, Dropout\n",
        "\n",
        "# This is a simple model for part 1 to show that we have overfitting problems\n",
        "def build_simple_model():\n",
        "  \n",
        "  print(\"Building network.\")\n",
        "\n",
        "  # Using a sequential model\n",
        "  model = Sequential()\n",
        "  \n",
        "  # First convolutional layer, with input shape (50, 50, 3)\n",
        "  model.add(Conv2D(32, kernel_size=3, activation=\"relu\", input_shape=(50,50,3)))\n",
        "\n",
        "  model.add(MaxPooling2D(pool_size=(2, 2)))\n",
        "\n",
        "  model.add(Conv2D(64, kernel_size=3, activation=\"relu\"))\n",
        "\n",
        "  model.add(MaxPooling2D(pool_size=(2,2), strides=(2,2)))\n",
        "\n",
        "  model.add(Conv2D(64, kernel_size=1, activation=\"relu\"))\n",
        "\n",
        "  model.add(MaxPooling2D(pool_size=(2,2), strides=(2,2)))\n",
        "  \n",
        "  # Flatten the data for final categorization\n",
        "  model.add(Flatten())\n",
        "\n",
        "  # Final classification layer, using softmax, with 17 nodes since there are \n",
        "  # 17 classes \n",
        "  model.add(Dense(17, activation=\"softmax\"))\n",
        "\n",
        "  return model\n",
        "\n",
        "# This is my complex model for part 2\n",
        "def build_complex_model():\n",
        "  \n",
        "  print(\"Building network.\")\n",
        "\n",
        "  # Using a sequential model\n",
        "  model = Sequential()\n",
        "  \n",
        "  # First convolutional layer, with input shape (50, 50, 3)\n",
        "  model.add(Conv2D(32, kernel_size=3, activation=\"relu\", input_shape=(50,50,3)))\n",
        "\n",
        "  model.add(MaxPooling2D(pool_size=(2, 2)))\n",
        "\n",
        "  # Additional convolutional layers. I played around with the number and number\n",
        "  # of filters per convolution layer. I've seen a trend of using 32 and then 64, \n",
        "  # and then 128 etc. \n",
        "\n",
        "  model.add(Conv2D(64, kernel_size=3, activation=\"relu\"))\n",
        "\n",
        "  model.add(MaxPooling2D(pool_size=(2,2), strides=(2,2)))\n",
        "\n",
        "  model.add(Conv2D(64, kernel_size=3, activation=\"relu\"))\n",
        "\n",
        "  model.add(MaxPooling2D(pool_size=(2,2), strides=(2,2)))\n",
        "\n",
        "  # Flatten the data for input into a densely connect network\n",
        "  model.add(Flatten())\n",
        "\n",
        "  # Used fully connected dense layers with dropout regularization. I played \n",
        "  # around with the dropout and found 0.5 seems to regulate overfitting better\n",
        "  # than other values. Strong regularization was needed as the model was \n",
        "  # overfitting badly without it.\n",
        "  model.add(Dense(64, activatidoes model train on validation datadoes model train on validation dataon=\"relu\"))\n",
        "\n",
        "  model.add(Dropout(0.5))\n",
        "\n",
        "  model.add(Dense(64, activation=\"relu\"))\n",
        "\n",
        "  model.add(Dropout(0.5))\n",
        "\n",
        "  # Final classification layer, using softmax, with 17 nodes since there are \n",
        "  # 17 classes \n",
        "  model.add(Dense(17, activation=\"softmax\"))\n",
        "\n",
        "  return model"
      ],
      "execution_count": null,
      "outputs": [
        {
          "output_type": "stream",
          "text": [
            "Using TensorFlow backend.\n"
          ],
          "name": "stderr"
        }
      ]
    },
    {
      "cell_type": "code",
      "metadata": {
        "id": "HVaN7MdvLSC6",
        "colab_type": "code",
        "colab": {}
      },
      "source": [
        "model = build_complex_model()\n",
        "model.summary()"
      ],
      "execution_count": null,
      "outputs": []
    },
    {
      "cell_type": "code",
      "metadata": {
        "id": "KRPPghCkc0YM",
        "colab_type": "code",
        "colab": {}
      },
      "source": [
        "# These function will actually train the model on the training set, and then run\n",
        "# the test data set through the trained model, and report the metrics specified \n",
        "# in the asssignment criteria\n",
        "\n",
        "def compile_model(model, optimizer_func, loss_func, metrics):\n",
        "\n",
        "  # Compile the model using the select optimizer function, loss function,\n",
        "  # and appropriate metrics \n",
        "\n",
        "  model.compile(optimizer=optimizer_func, loss=loss_func, \n",
        "                metrics=metrics)\n",
        "  return model\n",
        "\n",
        "def train_and_test_model(model, X_train, X_test, y_train, y_test, epochs,\n",
        "                         batch_size):\n",
        "\n",
        "  print(\"Training network.\")\n",
        "\n",
        "  # We store the return values of model.fit in the history variable, for easy\n",
        "  # plotting of loss  function during model training\n",
        "  history = model.fit(X_train, y_train, validation_data=(X_test, y_test), \n",
        "                      epochs=epochs, batch_size=batch_size)\n",
        "  \n",
        "  return history \n",
        "  "
      ],
      "execution_count": null,
      "outputs": []
    },
    {
      "cell_type": "code",
      "metadata": {
        "id": "coI-6NPIe7NK",
        "colab_type": "code",
        "colab": {}
      },
      "source": [
        "# This was for the first model I tried, and I used it as a performance baseline\n",
        "\n",
        "# Build, compile, train, and test the model\n",
        "\n",
        "# model = build_simple_model()\n",
        "\n",
        "# model.summary()\n",
        "\n",
        "# These can be adjusted as needed \n",
        "# OPTIMIZER = \"adam\"\n",
        "# LOSS_FUNC = \"categorical_crossentropy\"\n",
        "# METRICS = [\"accuracy\"]\n",
        "\n",
        "# model = compile_model(model, OPTIMIZER, LOSS_FUNC, METRICS)\n",
        "\n",
        "# history = train_and_test_model(model, X_train, X_test, y_train, y_test, 10, 100)\n",
        "\n",
        "# Visualize loss function as a function of epoch for model training\n",
        "\n",
        "# import matplotlib.pyplot as plt\n",
        "\n",
        "# plt.title(\"Loss vs. Epoch (Model Training)\")\n",
        "# plt.ylabel(\"Loss\")\n",
        "# plt.xlabel(\"Epoch\")\n",
        "# plt.plot(history.history[\"loss\"])\n",
        "# plt.show()"
      ],
      "execution_count": null,
      "outputs": []
    },
    {
      "cell_type": "code",
      "metadata": {
        "id": "A09IGOn_gyXZ",
        "colab_type": "code",
        "colab": {}
      },
      "source": [
        "# Print the final test set accuracy\n",
        "\n",
        "# print(\"The training score is \", history.history[\"loss\"][-1], \n",
        "      # history.history[\"accuracy\"][-1])\n",
        "\n",
        "# print(\"The test score is\", history.history[\"val_loss\"][-1], \n",
        "      # history.history[\"val_accuracy\"][-1])"
      ],
      "execution_count": null,
      "outputs": []
    },
    {
      "cell_type": "code",
      "metadata": {
        "id": "d9SFkeD6kDkT",
        "colab_type": "code",
        "colab": {}
      },
      "source": [
        "# It is clear that we are overfitting on the training set with even \n",
        "# a simple one layer convolutional network\n",
        "\n",
        "# The purpose of this code will be to generate new training data by\n",
        "# modifying existing data points in meaningful ways. Luckily, this \n",
        "# is already easy to do using Keras.\n",
        "\n",
        "# Trying the stock Keras docs example configuration with added rescaling\n",
        "\n",
        "from keras.preprocessing.image import ImageDataGenerator\n",
        "\n",
        "datagen = ImageDataGenerator(\n",
        "    # Important to rescale data for neural networks\n",
        "    rescale=1./255,\n",
        "    featurewise_center=True,\n",
        "    featurewise_std_normalization=True,\n",
        "    rotation_range=20,\n",
        "    width_shift_range=0.2,\n",
        "    height_shift_range=0.2,\n",
        "    horizontal_flip=True)\n",
        "\n",
        "valgen = ImageDataGenerator(\n",
        "    rescale=1./255,\n",
        "    featurewise_center=True,\n",
        "    featurewise_std_normalization=True,\n",
        "    rotation_range=20,\n",
        "    width_shift_range=0.2,\n",
        "    height_shift_range=0.2,\n",
        "    horizontal_flip=True)\n",
        "\n",
        "# Use the fit method on the existing training data\n",
        "\n",
        "# Train the data generator classes on the available images\n",
        "datagen.fit(X_train)\n",
        "valgen.fit(X_test)\n",
        "\n",
        "# Adapt the old train and test function for use with data generators\n",
        "def train_test_model_with_generator(model, datagen, X_train, y_train,\n",
        "                                    X_test, y_test, epochs, batch_size):\n",
        "\n",
        "  print(\"Training network.\")\n",
        "  \n",
        "  # We store the return values of model.fit in the history variable, for easy\n",
        "  # plotting of loss  function during model training\n",
        "  #history = model.fit(datagen.flow(X_train, y_train, batch_size=batch_size), \n",
        "  #                    steps_per_epoch=len(X_train)/32, \n",
        "  #                    validation_data=(X_test, y_test), \n",
        "  #                    epochs=epochs)\n",
        "\n",
        "  #history = model.fit_generator(datagen.flow(X_train, y_train), \n",
        "                                #steps_per_epoch=313,\n",
        "                                #validation_data=(X_test, y_test),\n",
        "                                #epochs=epochs)\n",
        "\n",
        "  history = model.fit_generator(datagen.flow(X_train, y_train), \n",
        "                                steps_per_epoch=313,\n",
        "                                validation_data=valgen.flow(X_test, y_test),\n",
        "                                epochs=epochs, verbose=0)\n",
        "\n",
        "  return history "
      ],
      "execution_count": null,
      "outputs": []
    },
    {
      "cell_type": "code",
      "metadata": {
        "id": "OalGTbbYCBqW",
        "colab_type": "code",
        "colab": {
          "base_uri": "https://localhost:8080/",
          "height": 368
        },
        "outputId": "1672185b-e605-4561-935d-9e53f11391e4"
      },
      "source": [
        "# Build, compile, train, and test the model\n",
        "\n",
        "model = build_complex_model()\n",
        "\n",
        "# These can be adjusted as needed \n",
        "# Commonly used\n",
        "OPTIMIZER = \"adam\"\n",
        "# This is a multiclass problem so this is appropriate\n",
        "LOSS_FUNC = \"categorical_crossentropy\"\n",
        "METRICS = [\"accuracy\"]\n",
        "# After 30 epochs training loss stops changing\n",
        "EPOCHS = 30\n",
        "BATCH_SIZE = 32\n",
        "\n",
        "model = compile_model(model, OPTIMIZER, LOSS_FUNC, METRICS)\n",
        "\n",
        "history = train_test_model_with_generator(model, datagen, X_train, y_train,\n",
        "                                          X_test, y_test, EPOCHS, BATCH_SIZE)\n",
        "\n",
        "# Visualize loss function as a function of epoch for model training\n",
        "\n",
        "import matplotlib.pyplot as plt\n",
        "\n",
        "plt.title(\"Loss vs. Epoch (Model Training)\")\n",
        "plt.ylabel(\"Loss\")\n",
        "plt.xlabel(\"Epoch\")\n",
        "plt.plot(history.history[\"loss\"])\n",
        "plt.show()\n",
        "\n",
        "# Print the final test set accuracy\n",
        "\n",
        "print(\"The training score is \", history.history[\"loss\"][-1], \n",
        "      history.history[\"accuracy\"][-1])\n",
        "\n",
        "print(\"The test score is\", history.history[\"val_loss\"][-1], \n",
        "      history.history[\"val_accuracy\"][-1])"
      ],
      "execution_count": null,
      "outputs": [
        {
          "output_type": "stream",
          "text": [
            "Building network.\n",
            "Training network.\n"
          ],
          "name": "stdout"
        },
        {
          "output_type": "display_data",
          "data": {
            "image/png": "[encoded data removed]",
            "text/plain": [
              "<Figure size 432x288 with 1 Axes>"
            ]
          },
          "metadata": {
            "tags": [],
            "needs_background": "light"
          }
        },
        {
          "output_type": "stream",
          "text": [
            "The training score is  0.3948061324763989 0.8757045\n",
            "The test score is 0.9454841613769531 0.7745097875595093\n"
          ],
          "name": "stdout"
        }
      ]
    },
    {
      "cell_type": "code",
      "metadata": {
        "id": "c6JZukrLt7dw",
        "colab_type": "code",
        "colab": {}
      },
      "source": [
        ""
      ],
      "execution_count": null,
      "outputs": []
    }
  ]
}